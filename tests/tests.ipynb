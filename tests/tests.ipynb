{
 "cells": [
  {
   "cell_type": "markdown",
   "metadata": {},
   "source": [
    "# Quick Run Tests"
   ]
  },
  {
   "cell_type": "markdown",
   "metadata": {},
   "source": [
    "# League"
   ]
  },
  {
   "cell_type": "markdown",
   "metadata": {},
   "source": [
    "## League Scraper"
   ]
  },
  {
   "cell_type": "code",
   "execution_count": null,
   "metadata": {},
   "outputs": [],
   "source": [
    "import hockeydata.scraper.league_scraper as scraper_league\n",
    "ls_o = scraper_league.LeagueScrapper(\"https://www.eliteprospects.com/league/czechia\")\n",
    "league_data = ls_o.get_league_data()\n",
    "league_data"
   ]
  },
  {
   "cell_type": "markdown",
   "metadata": {},
   "source": [
    "## League Updater"
   ]
  },
  {
   "cell_type": "code",
   "execution_count": null,
   "metadata": {},
   "outputs": [],
   "source": [
    "import json\n",
    "test_path = \"C:\\\\Users\\\\jziac\\\\OneDrive\\\\Documents\\\\programovani\\\\projekty\\\\elite\\\\data\\\\test_data\\\\\"\n",
    "file_name = \"league_dict.json\"\n",
    "ld_path = test_path + file_name\n",
    "with open(ld_path, \"w\") as ld:\n",
    "    json.dump(league_data, ld)"
   ]
  },
  {
   "cell_type": "code",
   "execution_count": null,
   "metadata": {},
   "outputs": [],
   "source": [
    "import json\n",
    "test_path = \"C:\\\\Users\\\\jziac\\\\OneDrive\\\\Documents\\\\programovani\\\\projekty\\\\elite\\\\data\\\\test_data\\\\\"\n",
    "file_name = \"league_dict.json\"\n",
    "ld_path = test_path + file_name\n",
    "f = open(ld_path)\n",
    "league_data = json.load(f)\n"
   ]
  },
  {
   "cell_type": "code",
   "execution_count": null,
   "metadata": {},
   "outputs": [],
   "source": [
    "league_data"
   ]
  },
  {
   "cell_type": "code",
   "execution_count": null,
   "metadata": {},
   "outputs": [],
   "source": [
    "import hockeydata.update_dict.update_league as league_update\n",
    "lu_o = league_update.UpdateLeagueDict()\n",
    "league_data_2 = lu_o.update_league_dict(league_data)"
   ]
  },
  {
   "cell_type": "markdown",
   "metadata": {},
   "source": [
    "### Insert League"
   ]
  },
  {
   "cell_type": "code",
   "execution_count": null,
   "metadata": {},
   "outputs": [],
   "source": [
    "import hockeydata.input_dict.input_league_dict as input_dict_2\n",
    "import hockeydata.database_creator.database_creator as db\n",
    "insert_league_data = input_dict_2.InputLeagueDict(db_session=db.session)\n",
    "insert_league_data.input_league_dict(league_dict=league_data_2)"
   ]
  },
  {
   "cell_type": "markdown",
   "metadata": {},
   "source": [
    "## Team"
   ]
  },
  {
   "cell_type": "markdown",
   "metadata": {},
   "source": [
    "### Team Scraper"
   ]
  },
  {
   "cell_type": "code",
   "execution_count": null,
   "metadata": {},
   "outputs": [],
   "source": [
    "import hockeydata.scraper.team_scraper as team_scraper\n",
    "ts_o = team_scraper.TeamScraper('https://www.eliteprospects.com/team/1190/hc-kometa-brno')\n",
    "team_data = ts_o.get_info()\n",
    "team_data"
   ]
  },
  {
   "cell_type": "markdown",
   "metadata": {},
   "source": [
    "### Team Update"
   ]
  },
  {
   "cell_type": "code",
   "execution_count": null,
   "metadata": {},
   "outputs": [],
   "source": [
    "import hockeydata.update_dict.update_team as team_updater\n",
    "tu_o = team_updater.UpdateTeamDict()\n",
    "team_dict_updated = tu_o.update_team_dict(team_data)\n",
    "team_dict_updated"
   ]
  },
  {
   "cell_type": "markdown",
   "metadata": {},
   "source": [
    "### Team Insert "
   ]
  },
  {
   "cell_type": "code",
   "execution_count": null,
   "metadata": {},
   "outputs": [],
   "source": [
    "import hockeydata.input_dict.input_team_dict as input_dict_2\n",
    "insert_team_data = input_dict_2.InputTeamDict()\n",
    "insert_team_data.input_team_dict(team_dict=team_dict_updated)"
   ]
  },
  {
   "cell_type": "markdown",
   "metadata": {},
   "source": [
    "### Get Team URL"
   ]
  },
  {
   "cell_type": "code",
   "execution_count": null,
   "metadata": {},
   "outputs": [],
   "source": [
    "import hockeydata.get_urls.get_urls as get_url\n",
    "get_url_o = get_url.LeagueUrlDownload()\n",
    "league_dict = get_url_o.get_league_names_dict()"
   ]
  },
  {
   "cell_type": "code",
   "execution_count": null,
   "metadata": {},
   "outputs": [],
   "source": [
    "league_dict"
   ]
  },
  {
   "cell_type": "code",
   "execution_count": null,
   "metadata": {},
   "outputs": [],
   "source": [
    "import hockeydata.get_urls.get_urls as get_url\n",
    "get_url_o = get_url.LeagueUrlDownload()\n",
    "league_url = get_url_o.get_team_refs(league='QMJHL')\n",
    "league_url"
   ]
  },
  {
   "cell_type": "markdown",
   "metadata": {},
   "source": [
    "## Player"
   ]
  },
  {
   "cell_type": "markdown",
   "metadata": {},
   "source": [
    "### Player Scraper"
   ]
  },
  {
   "cell_type": "code",
   "execution_count": null,
   "metadata": {},
   "outputs": [],
   "source": [
    "import hockeydata.scraper.player_scraper as player_scraper\n",
    "import json\n",
    "ps_o = player_scraper.PlayerScraper(\"https://www.eliteprospects.com/player/20605/gordie-howe\")\n",
    "player_dict = ps_o.get_info_all()\n",
    "player_dict\n",
    "with open(\"howe.json\", \"w\") as f:\n",
    "    json.dump(player_dict, f)\n",
    "player_dict\n"
   ]
  },
  {
   "cell_type": "markdown",
   "metadata": {},
   "source": []
  },
  {
   "cell_type": "markdown",
   "metadata": {},
   "source": [
    "### Player Updater"
   ]
  },
  {
   "cell_type": "code",
   "execution_count": null,
   "metadata": {},
   "outputs": [],
   "source": [
    "import hockeydata.update_dict.update_player as player_update\n",
    "up_o = player_update.UpdatePlayer()\n",
    "dict_player_updated = up_o.update_player_dict(player_dict)\n",
    "dict_player_updated"
   ]
  },
  {
   "cell_type": "markdown",
   "metadata": {},
   "source": [
    "### Player Insert"
   ]
  },
  {
   "cell_type": "code",
   "execution_count": null,
   "metadata": {},
   "outputs": [],
   "source": [
    "import hockeydata.input_dict.input_player_dict as input_dict_2\n",
    "insert_player_data = input_dict_2.InputPlayerDict()\n",
    "insert_player_data.input_player_dict(player_dict=dict_player_updated)"
   ]
  }
 ],
 "metadata": {
  "kernelspec": {
   "display_name": "p-env",
   "language": "python",
   "name": "python3"
  },
  "language_info": {
   "codemirror_mode": {
    "name": "ipython",
    "version": 3
   },
   "file_extension": ".py",
   "mimetype": "text/x-python",
   "name": "python",
   "nbconvert_exporter": "python",
   "pygments_lexer": "ipython3",
   "version": "3.10.11"
  },
  "orig_nbformat": 4
 },
 "nbformat": 4,
 "nbformat_minor": 2
}
